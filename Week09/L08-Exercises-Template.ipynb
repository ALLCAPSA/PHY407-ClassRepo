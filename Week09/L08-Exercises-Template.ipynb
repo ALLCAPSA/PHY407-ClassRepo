{
 "cells": [
  {
   "cell_type": "markdown",
   "id": "20837e73-1dae-4916-8ced-0ae7224b3423",
   "metadata": {},
   "source": [
    "# Boundary Value Problem Example: Shooting Method for Projectile Motion"
   ]
  },
  {
   "cell_type": "markdown",
   "id": "9b2ee85d-7845-411a-ad6c-b276bf7b8d05",
   "metadata": {
    "slideshow": {
     "slide_type": "slide"
    }
   },
   "source": [
    "Suppose we want to choose an initial velocity $v_0$ for a projectile, thrown straight upward, to land after a certain elapsed time $t_L = 10$ s, where the projectile obeys Newton's 2nd Law:\n",
    "$$\\frac {d^2 y}{dt^2} = \\frac{F(y)}m \\quad \\Rightarrow \\quad \\frac{dy}{dt} = v\\quad \\text{and}\\quad \\frac{dv}{dt} = \\frac{F(y)}{m}.$$\n",
    "Take the gravitational constant to be $g = 9.81 m/s^2$"
   ]
  },
  {
   "cell_type": "markdown",
   "id": "713d3d25-92a7-4d95-a4b2-d9bde2d42b91",
   "metadata": {},
   "source": [
    "## Exercise 1"
   ]
  },
  {
   "cell_type": "markdown",
   "id": "b5b3f6d0-96ad-4597-a6d9-ebe1a5d4f6cf",
   "metadata": {},
   "source": [
    "Write code to integrate the equations, using RK4, from time $t=0$ to $t=t_L$ to find $y$ of the projectile at $t=t_L$. It should be a function of $v_0$. Assume the projectile starts at $y=0$ at $t=0$.\n",
    "\n",
    "Hint: keep track of both $y$ and $v$. At each timestep of the RK4 algorithm, you need to invoke a function that encodes the change in $y$ and the change in $v$. The number of timesteps should be a parameter that you can set."
   ]
  },
  {
   "cell_type": "markdown",
   "id": "5da29cdf-c95a-4ed8-a60a-19a6357fbb68",
   "metadata": {},
   "source": [
    "## Exercise 2"
   ]
  },
  {
   "cell_type": "markdown",
   "id": "0b5b7311-aff5-4fec-ae52-172fddfda1be",
   "metadata": {},
   "source": [
    "Write code that performs a binary search to find the initial value of velocity, $v_0$, that gives us $y=0$ (with target accuracy 1e-8) at $t = t_L$. Invoke the code from the previous exercise (try 1000 RK4 steps) at each step of the search."
   ]
  },
  {
   "cell_type": "code",
   "execution_count": null,
   "id": "5441f8d1-774c-467c-a5cf-5361ebe3c466",
   "metadata": {
    "tags": []
   },
   "outputs": [],
   "source": [
    "# binary search, initially bracketed by min 0.01 and max 1000\n",
    "v1 = 0.01\n",
    "v2 = 1000.0\n",
    "h1 = height(v1) # where height contains your code from Example 1\n",
    "h2 = height(v2)\n",
    "\n",
    "while abs(h2-h1) > target:\n",
    "    ## fill in binary search code here"
   ]
  },
  {
   "cell_type": "markdown",
   "id": "4703db4d-c386-4b26-adc7-356f4323ed40",
   "metadata": {},
   "source": [
    "# Verlet Method Example: Orbit Calculation"
   ]
  },
  {
   "cell_type": "markdown",
   "id": "78c897f3-8067-49ac-9ea8-074210fc2d1a",
   "metadata": {},
   "source": [
    "The position r(x,y) of Earth in its orbital plane can be approximately described by: $$\\frac{d^2 \\mathbf r}{d t^2} = \\frac{-G M \\mathbf r}{r^3} $$\n",
    "where $M$ = 1.9891e30 (mass of Sun in kg). You can import $G$ from scipy.constants\n",
    "\n",
    "Note, when Earth is at its closest point to the Sun (perihilion):\n",
    "* its direction of motion is perpendicular to the line between itself and the Sun\n",
    "* r = 1.471e11 m\n",
    "* linear velocity v = 3.0287e4 m/s"
   ]
  },
  {
   "cell_type": "markdown",
   "id": "32cc8227-7420-488d-89b5-4a09018d8fcc",
   "metadata": {},
   "source": [
    "## Exercise 3"
   ]
  },
  {
   "cell_type": "markdown",
   "id": "d9e2fcae-7669-4cf7-9053-0f50dde90f6f",
   "metadata": {},
   "source": [
    "Write a program to calculate Earth's position using Verlet method, with timestep $h$ = 1 hour, over 5 years. \n",
    "\n",
    "You probably want to keep track of $x$ and $y$ separately (similarly $v_x$ and $v_y$), and calculate $r = \\sqrt{x^2+y^2}$. Define the x, y axes as: Earth starts at perihelion, along x>0, with positive velocity along y axis\n",
    "\n",
    "Then plot $y$ vs $x$ over the 5 years. This should draw over an orbit 5 times; the orbit should be slightly, but visibly, non-circular."
   ]
  },
  {
   "cell_type": "code",
   "execution_count": null,
   "id": "b7111bf4-d708-4d4a-8161-7a097e0dd7c8",
   "metadata": {},
   "outputs": [],
   "source": []
  }
 ],
 "metadata": {
  "kernelspec": {
   "display_name": "Python 3 (ipykernel)",
   "language": "python",
   "name": "python3"
  },
  "language_info": {
   "codemirror_mode": {
    "name": "ipython",
    "version": 3
   },
   "file_extension": ".py",
   "mimetype": "text/x-python",
   "name": "python",
   "nbconvert_exporter": "python",
   "pygments_lexer": "ipython3",
   "version": "3.10.9"
  }
 },
 "nbformat": 4,
 "nbformat_minor": 5
}
