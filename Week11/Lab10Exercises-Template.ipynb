{
 "cells": [
  {
   "cell_type": "markdown",
   "id": "51081136-81fc-4ad5-bd7c-e74c0c8ef06a",
   "metadata": {},
   "source": [
    "# Traveling Salesman Problem"
   ]
  },
  {
   "cell_type": "markdown",
   "id": "e4811f9e-fed7-4dd1-a6da-28c9a897e677",
   "metadata": {},
   "source": [
    "## Problem Definition"
   ]
  },
  {
   "cell_type": "markdown",
   "id": "e0298e38-02f5-421c-ae0e-fb11d557ff55",
   "metadata": {
    "cell_style": "split",
    "slideshow": {
     "slide_type": "subslide"
    }
   },
   "source": [
    "A traveling salesperson needs to visit N cities\n",
    "* Can travel in a straight line between any pair of cities\n",
    "* We are given the coordinates of the cities\n",
    "* Must start and end at the same city\n",
    "* Must visit each city at least once\n",
    "\n",
    "Devise the shortest journey (in terms of total distance travelled).\n",
    "\n",
    "This is a famous NP-hard problem (https://en.wikipedia.org/wiki/NP-hardness). We will make some simplifications:\n",
    "* Flat 2-dimensional space\n",
    "* City locations are chosen at random within a square of unit length on each side"
   ]
  },
  {
   "cell_type": "markdown",
   "id": "c8a5db16-ebc9-4b7a-be6b-584c7b3e3eee",
   "metadata": {},
   "source": [
    "## Concept for our solution"
   ]
  },
  {
   "cell_type": "markdown",
   "id": "a88e56c5-cf30-4a70-8664-0526fa342cdb",
   "metadata": {},
   "source": [
    "We'll find the global minimum of *total distance of the route*, using simulated annealing\n",
    "* Number the cities in the order in which the salesperson visits them\n",
    "* Denote the position of city i by 2D vector $r_i = (x_i, y_i)$ with $r_N = r_0$\n",
    "* Start with random route\n",
    "* Try swapping the order of 2 randomly-chosen cities in the route, use Metropolis to determine whether to keep the swap\n",
    "   * 'Temperature' T follows exponential cooling schedule, with time constant $\\tau$ and initial temperature $T_0$\n",
    "* Stop when temperature reaches $T_f$"
   ]
  },
  {
   "cell_type": "markdown",
   "id": "85f130d9-b9b2-4701-b777-cbfd92d3b468",
   "metadata": {
    "tags": []
   },
   "source": [
    "![Newman's fig. 10.6](fig10-6.png)"
   ]
  },
  {
   "cell_type": "markdown",
   "id": "5859bade-ec7d-4570-89e9-f5d3a45c205a",
   "metadata": {},
   "source": [
    "### Exercise 1"
   ]
  },
  {
   "cell_type": "markdown",
   "id": "12f1bd7c-64e3-4ce4-8504-926614433438",
   "metadata": {},
   "source": [
    "Define a function to calculate the total distance travelled by the salesperson over the entire journey. This is the quantity we'll be minimizing."
   ]
  },
  {
   "cell_type": "markdown",
   "id": "e17ba16d-5b35-42d8-82cf-dfdffd2494b7",
   "metadata": {},
   "source": [
    "### Exercise 2"
   ]
  },
  {
   "cell_type": "markdown",
   "id": "624b85a2-c8fa-45fc-b086-cf281acd9111",
   "metadata": {},
   "source": [
    "Write a function that randomly sets the city locations. It should take N as an argument, and return a 2D array (or, if you prefer, an array of 2-element vectors) containing the x and y positions of the cities."
   ]
  },
  {
   "cell_type": "markdown",
   "id": "95257342-03f6-489c-aa38-1f8d62369504",
   "metadata": {
    "tags": []
   },
   "source": [
    "### Exercise 3"
   ]
  },
  {
   "cell_type": "markdown",
   "id": "0e9f23af-921f-4d2a-a3e5-417fda0afc6e",
   "metadata": {},
   "source": [
    "Write a function that creates a graphical representation of the cities' positions. It should also draw a line between each city i and i+1 (ideally we would have an arrow on each line, but don't worry about this.)"
   ]
  },
  {
   "cell_type": "markdown",
   "id": "cda9237a-cfc2-42aa-872f-5ce6ec6da270",
   "metadata": {},
   "source": [
    "## Implementing Markov Chain with Metropolis Algorithm"
   ]
  },
  {
   "cell_type": "markdown",
   "id": "f4991162-3032-4ee0-8d80-067ebadd04d9",
   "metadata": {},
   "source": [
    "### Exercise 4"
   ]
  },
  {
   "cell_type": "markdown",
   "id": "0fd1e33e-894f-491f-9fdd-00a7bf75f7f2",
   "metadata": {},
   "source": [
    "Write a function that decides whether or not to perform a swap. It should take as input: the old distance (before the swap), the new distance (after the swap), and the 'temperature'. It should return something representing reject or accept."
   ]
  },
  {
   "cell_type": "markdown",
   "id": "003e0223-ee13-481e-9902-59144bc5ef7a",
   "metadata": {},
   "source": [
    "Also write a function that chooses, at random, two different city numbers (excluding 0 and excluding N). It should take as input how many cities there are, and return the two chosen numbers."
   ]
  },
  {
   "cell_type": "markdown",
   "id": "6574c4b5-6a25-43d4-8986-e219741e8374",
   "metadata": {},
   "source": [
    "Then write a function that tries a swap of two randomly-chosen cities, and keeps or rejects the swap according to the Metropolis algorithm. It should take the array of city positions, and T, as input. It should return the new array of city positions (which may or may not be different from the input array)."
   ]
  },
  {
   "cell_type": "markdown",
   "id": "250cabdf-7dc0-46f2-aade-1a23611e87f9",
   "metadata": {},
   "source": [
    "### Exercise 5"
   ]
  },
  {
   "cell_type": "markdown",
   "id": "c24a89ed-0d18-4f80-856b-81c47fda5cb2",
   "metadata": {},
   "source": [
    "Write code that: \n",
    "* calls your function to initialize the city locations\n",
    "* calls your function to draw a map of the city locations\n",
    "* prints out the total distance for the initial path\n",
    "* performs the simulated annealing to minimize the distance along the path\n",
    "* draws a map of the city locations and total distance for the solution\n",
    "\n",
    "You should have $N,~\\tau,~T_0,~T_f$ as parameters; for now, set them to the following values:"
   ]
  },
  {
   "cell_type": "code",
   "execution_count": 42,
   "id": "9d64da1f-8095-4e19-92e9-18e2b217dda2",
   "metadata": {
    "tags": []
   },
   "outputs": [],
   "source": [
    "N = 20\n",
    "tau = 1e4\n",
    "T0 = 10.0\n",
    "Tf = 1e-3"
   ]
  },
  {
   "cell_type": "markdown",
   "id": "56c3a5c4-47b0-48c5-a4e4-0214ad447635",
   "metadata": {},
   "source": [
    "### Exercise 6"
   ]
  },
  {
   "cell_type": "markdown",
   "id": "009dc7a5-0478-41f6-bd0b-f9597f828841",
   "metadata": {},
   "source": [
    "Now modify your code to produce, along the way, two 'diagnostic' plots to get some more insight into what the algorithm is doing:\n",
    "* distance vs t\n",
    "* T vs t\n",
    "\n",
    "This means your code has to keep track of distance and T at each step. \n",
    "\n",
    "Also make your code time how long the simulated annealing algorithm takes (not including the initialization of the cities, and not including any plotting)."
   ]
  },
  {
   "cell_type": "markdown",
   "id": "6992fe82-de08-4b04-8ea4-0482a79bbde9",
   "metadata": {},
   "source": [
    "### Exercise 7"
   ]
  },
  {
   "cell_type": "markdown",
   "id": "893baaef-999a-47b2-b856-5a1fa129eaae",
   "metadata": {},
   "source": [
    "Try your code from the previous exercise with $N=40$, then $N=60$. As you increase N, do you notice the computation time going up? What about the number of steps required to reach a solution?"
   ]
  },
  {
   "cell_type": "markdown",
   "id": "6111119e-2250-459e-abc7-9727dfbc54d1",
   "metadata": {
    "tags": []
   },
   "source": [
    "### Exercise 8"
   ]
  },
  {
   "cell_type": "markdown",
   "id": "7808d4b1-06cd-4b75-bfc0-04199f31bd68",
   "metadata": {},
   "source": [
    "With $N=60$, now try a few different values of $\\tau: ~100,~1000,~10000$, with the same random seed each time. Does the solution itself change? What about the execution time? Can you see the trade-off between computational speed and possibility of getting stuck in local minimum?"
   ]
  },
  {
   "cell_type": "code",
   "execution_count": null,
   "id": "02359140-de47-4289-a64d-edfb223398f7",
   "metadata": {},
   "outputs": [],
   "source": []
  }
 ],
 "metadata": {
  "kernelspec": {
   "display_name": "Python 3 (ipykernel)",
   "language": "python",
   "name": "python3"
  },
  "language_info": {
   "codemirror_mode": {
    "name": "ipython",
    "version": 3
   },
   "file_extension": ".py",
   "mimetype": "text/x-python",
   "name": "python",
   "nbconvert_exporter": "python",
   "pygments_lexer": "ipython3",
   "version": "3.10.9"
  }
 },
 "nbformat": 4,
 "nbformat_minor": 5
}
